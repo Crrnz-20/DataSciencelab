{
 "cells": [
  {
   "cell_type": "markdown",
   "id": "913fbaff-1586-4131-9418-9a913385e1ea",
   "metadata": {},
   "source": [
    "# Data Science Tools and Ecosystem "
   ]
  },
  {
   "cell_type": "markdown",
   "id": "f87bf45a-1d55-475a-bcb4-31d965f894c7",
   "metadata": {
    "tags": []
   },
   "source": [
    "## In this notebook, Data Science Tools and Ecosystems are summarized."
   ]
  },
  {
   "cell_type": "markdown",
   "id": "b5cda947-8ba5-478f-8796-60792aa8656f",
   "metadata": {
    "tags": []
   },
   "source": [
    "## **Objectives:**\n",
    "- List popular languages for Data Science\n",
    "- List popular libraries for Data Science\n",
    "- List Data Science Tools\n",
    "- Simple arithmetic expressions \n",
    "- Convert minutes to hours"
   ]
  },
  {
   "cell_type": "markdown",
   "id": "061df363-305b-46bb-9df1-3131e9e72b9b",
   "metadata": {},
   "source": [
    "## Some of the commonly used libraries used by Data Scientist include:\n",
    "1. Pandas\n",
    "2. Numpy\n",
    "3. Matplotlib\n",
    "4. Tensorflow\n",
    "5. ggplot"
   ]
  },
  {
   "cell_type": "markdown",
   "id": "25ebfa64-5565-4f9e-8b4f-4dcca10651d8",
   "metadata": {},
   "source": [
    "## Some of the popular languages that Data Scientis use are:\n",
    "1. Python\n",
    "2. R\n",
    "3. SQL\n",
    "4. Julia"
   ]
  },
  {
   "cell_type": "markdown",
   "id": "10d6e428-4784-43f9-97e5-e332edd12f2f",
   "metadata": {},
   "source": [
    "|Data Science Tools|\n",
    "|------------------|\n",
    "|R Studio|\n",
    "|Watson open scale|\n",
    "|IBM Watson|\n"
   ]
  },
  {
   "cell_type": "markdown",
   "id": "d985cfdc-3fe5-4b4d-9df7-3a44ae987995",
   "metadata": {},
   "source": [
    "### Below are a few examples of evaluating arithmetic expressions in Python\n"
   ]
  },
  {
   "cell_type": "markdown",
   "id": "982d4269-1c54-46ca-8797-075bc2434f29",
   "metadata": {},
   "source": [
    "### This a simple arithmetic expression to multiply then add integers\n"
   ]
  },
  {
   "cell_type": "code",
   "execution_count": 3,
   "id": "279fcd9b-17cd-4d42-8e19-0bd0f7a57ded",
   "metadata": {
    "tags": []
   },
   "outputs": [
    {
     "data": {
      "text/plain": [
       "17"
      ]
     },
     "execution_count": 3,
     "metadata": {},
     "output_type": "execute_result"
    }
   ],
   "source": [
    "(3*4)+5"
   ]
  },
  {
   "cell_type": "markdown",
   "id": "566c4d19-77d5-4cd0-89ec-358ad9e1b539",
   "metadata": {},
   "source": [
    "### This will convert 2000 minutes to hours by dividing by 60"
   ]
  },
  {
   "cell_type": "code",
   "execution_count": 4,
   "id": "fbc18053-790b-4c6d-9a0c-a7369ca0ef71",
   "metadata": {
    "tags": []
   },
   "outputs": [
    {
     "data": {
      "text/plain": [
       "3.3333333333333335"
      ]
     },
     "execution_count": 4,
     "metadata": {},
     "output_type": "execute_result"
    }
   ],
   "source": [
    "(200/60)"
   ]
  },
  {
   "cell_type": "markdown",
   "id": "9e9477af-2357-4ad4-87ee-5738634822d9",
   "metadata": {},
   "source": [
    "## Author\n",
    "### Javier Carranza"
   ]
  },
  {
   "cell_type": "code",
   "execution_count": null,
   "id": "fb02d9d7-0997-448d-a01a-fec36416f75c",
   "metadata": {},
   "outputs": [],
   "source": []
  }
 ],
 "metadata": {
  "kernelspec": {
   "display_name": "Python",
   "language": "python",
   "name": "conda-env-python-py"
  },
  "language_info": {
   "codemirror_mode": {
    "name": "ipython",
    "version": 3
   },
   "file_extension": ".py",
   "mimetype": "text/x-python",
   "name": "python",
   "nbconvert_exporter": "python",
   "pygments_lexer": "ipython3",
   "version": "3.7.12"
  }
 },
 "nbformat": 4,
 "nbformat_minor": 5
}
